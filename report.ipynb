{
 "metadata": {
  "language_info": {
   "codemirror_mode": {
    "name": "ipython",
    "version": 3
   },
   "file_extension": ".py",
   "mimetype": "text/x-python",
   "name": "python",
   "nbconvert_exporter": "python",
   "pygments_lexer": "ipython3",
   "version": "3.9.2"
  },
  "orig_nbformat": 4,
  "kernelspec": {
   "name": "python3",
   "display_name": "Python 3.9.2 64-bit"
  },
  "interpreter": {
   "hash": "2647ea34e536f865ab67ff9ddee7fd78773d956cec0cab53c79b32cd10da5d83"
  }
 },
 "nbformat": 4,
 "nbformat_minor": 2,
 "cells": [
  {
   "source": [
    "# Pclass\n",
    "People with higher tier of class are more likely to survived with 20 percent difference within adjacent tiers. \n",
    "\n",
    "| Pclass   | Survival Rate |\n",
    "| -------- | ------------- |\n",
    "| 1        | 0.629630      |\n",
    "| 2        | 0.472826      |\n",
    "| 3        | 0.242363      |\n",
    "\n",
    "# Sibsp\n",
    "People who traveled with 1 or 2 siblings or spouse are higher rate of survival compare to people who travled with 3 sibsp or more. People who traveled alone (sibsp + parch = 0) have survival rate over than one third.\n",
    "\n",
    "| Sibsp    | Survival Rate |\n",
    "| -------- | ------------- |\n",
    "| 0        | 0.345395      |\n",
    "| 1        | 0.535885      |\n",
    "| 2        | 0.464286      |\n",
    "| 3        | 0.250000      |\n",
    "| 4        | 0.166667      |\n",
    "| 5        | 0.000000      |\n",
    "| 8        | 0.000000      |\n",
    "\n",
    "# Fare\n",
    "People in the group of higher fare have higher rate of survival compare to people with lower fare, this indicates either of two things, people travel with family or having an expensive cabin are more likely to survive.\n",
    "\n",
    "![](https://i.imgur.com/s1Nikws.png)"
   ],
   "cell_type": "code",
   "metadata": {},
   "execution_count": null,
   "outputs": []
  }
 ]
}